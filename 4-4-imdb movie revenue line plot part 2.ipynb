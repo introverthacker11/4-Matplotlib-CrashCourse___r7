{
 "cells": [
  {
   "cell_type": "markdown",
   "id": "106f3ac6",
   "metadata": {},
   "source": [
    "######\n",
    "#### We will use our own week1 and week2 csv files instead of imdb\n",
    "######"
   ]
  },
  {
   "cell_type": "code",
   "execution_count": 12,
   "id": "856f7468",
   "metadata": {},
   "outputs": [
    {
     "data": {
      "text/html": [
       "<div>\n",
       "<style scoped>\n",
       "    .dataframe tbody tr th:only-of-type {\n",
       "        vertical-align: middle;\n",
       "    }\n",
       "\n",
       "    .dataframe tbody tr th {\n",
       "        vertical-align: top;\n",
       "    }\n",
       "\n",
       "    .dataframe thead th {\n",
       "        text-align: right;\n",
       "    }\n",
       "</style>\n",
       "<table border=\"1\" class=\"dataframe\">\n",
       "  <thead>\n",
       "    <tr style=\"text-align: right;\">\n",
       "      <th></th>\n",
       "      <th>Week</th>\n",
       "      <th>Sales</th>\n",
       "      <th>Profit (PKR)</th>\n",
       "    </tr>\n",
       "  </thead>\n",
       "  <tbody>\n",
       "    <tr>\n",
       "      <th>0</th>\n",
       "      <td>week6</td>\n",
       "      <td>216</td>\n",
       "      <td>85000</td>\n",
       "    </tr>\n",
       "    <tr>\n",
       "      <th>1</th>\n",
       "      <td>week7</td>\n",
       "      <td>218</td>\n",
       "      <td>87000</td>\n",
       "    </tr>\n",
       "    <tr>\n",
       "      <th>2</th>\n",
       "      <td>week8</td>\n",
       "      <td>223</td>\n",
       "      <td>91000</td>\n",
       "    </tr>\n",
       "    <tr>\n",
       "      <th>3</th>\n",
       "      <td>week9</td>\n",
       "      <td>240</td>\n",
       "      <td>115000</td>\n",
       "    </tr>\n",
       "    <tr>\n",
       "      <th>4</th>\n",
       "      <td>week10</td>\n",
       "      <td>226</td>\n",
       "      <td>96000</td>\n",
       "    </tr>\n",
       "  </tbody>\n",
       "</table>\n",
       "</div>"
      ],
      "text/plain": [
       "     Week  Sales  Profit (PKR)\n",
       "0   week6    216         85000\n",
       "1   week7    218         87000\n",
       "2   week8    223         91000\n",
       "3   week9    240        115000\n",
       "4  week10    226         96000"
      ]
     },
     "execution_count": 12,
     "metadata": {},
     "output_type": "execute_result"
    }
   ],
   "source": [
    "import matplotlib.pyplot as plt\n",
    "import pandas as pd\n",
    "\n",
    "a = pd.read_csv('week01csvfile9.csv')\n",
    "b = pd.read_csv('week2csvfile10.csv')\n",
    "a"
   ]
  },
  {
   "cell_type": "code",
   "execution_count": 13,
   "id": "5d98a65e",
   "metadata": {},
   "outputs": [
    {
     "data": {
      "text/html": [
       "<div>\n",
       "<style scoped>\n",
       "    .dataframe tbody tr th:only-of-type {\n",
       "        vertical-align: middle;\n",
       "    }\n",
       "\n",
       "    .dataframe tbody tr th {\n",
       "        vertical-align: top;\n",
       "    }\n",
       "\n",
       "    .dataframe thead th {\n",
       "        text-align: right;\n",
       "    }\n",
       "</style>\n",
       "<table border=\"1\" class=\"dataframe\">\n",
       "  <thead>\n",
       "    <tr style=\"text-align: right;\">\n",
       "      <th></th>\n",
       "      <th>Week</th>\n",
       "      <th>Sales</th>\n",
       "      <th>Profit (PKR)</th>\n",
       "    </tr>\n",
       "  </thead>\n",
       "  <tbody>\n",
       "    <tr>\n",
       "      <th>0</th>\n",
       "      <td>week1</td>\n",
       "      <td>219</td>\n",
       "      <td>98000</td>\n",
       "    </tr>\n",
       "    <tr>\n",
       "      <th>1</th>\n",
       "      <td>week2</td>\n",
       "      <td>235</td>\n",
       "      <td>110000</td>\n",
       "    </tr>\n",
       "    <tr>\n",
       "      <th>2</th>\n",
       "      <td>week3</td>\n",
       "      <td>230</td>\n",
       "      <td>95000</td>\n",
       "    </tr>\n",
       "    <tr>\n",
       "      <th>3</th>\n",
       "      <td>week4</td>\n",
       "      <td>228</td>\n",
       "      <td>92000</td>\n",
       "    </tr>\n",
       "    <tr>\n",
       "      <th>4</th>\n",
       "      <td>week5</td>\n",
       "      <td>215</td>\n",
       "      <td>87000</td>\n",
       "    </tr>\n",
       "  </tbody>\n",
       "</table>\n",
       "</div>"
      ],
      "text/plain": [
       "    Week  Sales  Profit (PKR)\n",
       "0  week1    219         98000\n",
       "1  week2    235        110000\n",
       "2  week3    230         95000\n",
       "3  week4    228         92000\n",
       "4  week5    215         87000"
      ]
     },
     "execution_count": 13,
     "metadata": {},
     "output_type": "execute_result"
    }
   ],
   "source": [
    "b"
   ]
  },
  {
   "cell_type": "code",
   "execution_count": 3,
   "id": "2671ce61",
   "metadata": {},
   "outputs": [
    {
     "data": {
      "text/plain": [
       "(0    216\n",
       " 1    218\n",
       " 2    223\n",
       " 3    240\n",
       " 4    226\n",
       " Name: Sales, dtype: int64,\n",
       " 0     85000\n",
       " 1     87000\n",
       " 2     91000\n",
       " 3    115000\n",
       " 4     96000\n",
       " Name: Profit (PKR), dtype: int64,\n",
       " [<matplotlib.lines.Line2D at 0x24489dda810>])"
      ]
     },
     "execution_count": 3,
     "metadata": {},
     "output_type": "execute_result"
    },
    {
     "data": {
      "image/png": "[encoded data removed]",
      "text/plain": [
       "<Figure size 640x480 with 1 Axes>"
      ]
     },
     "metadata": {},
     "output_type": "display_data"
    }
   ],
   "source": [
    "\n",
    "import matplotlib.pyplot as plt\n",
    "import pandas as pd\n",
    "\n",
    "a = pd.read_csv('week01csvfile9.csv')\n",
    "b = pd.read_csv('week2csvfile10.csv')\n",
    "c = a['Sales']\n",
    "d = a['Profit (PKR)']\n",
    "\n",
    "c,d,plt.plot(c,d)"
   ]
  },
  {
   "cell_type": "markdown",
   "id": "4f798841",
   "metadata": {},
   "source": [
    "######\n",
    "#### We will use our own week1 and week2 csv files instead of imdb\n",
    "######"
   ]
  },
  {
   "cell_type": "code",
   "execution_count": 4,
   "id": "7ba881bc",
   "metadata": {},
   "outputs": [
    {
     "data": {
      "text/plain": [
       "(0    216\n",
       " 1    218\n",
       " 2    223\n",
       " 3    240\n",
       " 4    226\n",
       " Name: Sales, dtype: int64,\n",
       " 0     85000\n",
       " 1     87000\n",
       " 2     91000\n",
       " 3    115000\n",
       " 4     96000\n",
       " Name: Profit (PKR), dtype: int64,\n",
       " [<matplotlib.lines.Line2D at 0x24489fed490>])"
      ]
     },
     "execution_count": 4,
     "metadata": {},
     "output_type": "execute_result"
    },
    {
     "data": {
      "text/plain": [
       "<Figure size 1000x600 with 0 Axes>"
      ]
     },
     "metadata": {},
     "output_type": "display_data"
    },
    {
     "data": {
      "image/png": "[encoded data removed]",
      "text/plain": [
       "<Figure size 600x600 with 1 Axes>"
      ]
     },
     "metadata": {},
     "output_type": "display_data"
    }
   ],
   "source": [
    "\n",
    "import matplotlib.pyplot as plt\n",
    "import numpy as np\n",
    "import pandas as pd\n",
    "from numpy.random import randint\n",
    "\n",
    "a = pd.read_csv('week01csvfile9.csv')\n",
    "c = a['Sales']\n",
    "d = a['Profit (PKR)']\n",
    "\n",
    "plt.figure(figsize = (10,6)) # it refers to plot's size\n",
    "plt.figure(figsize = (6,6))\n",
    "c,d,plt.plot(c,d)"
   ]
  },
  {
   "cell_type": "code",
   "execution_count": 5,
   "id": "4850ad87",
   "metadata": {},
   "outputs": [
    {
     "data": {
      "text/plain": [
       "3"
      ]
     },
     "execution_count": 5,
     "metadata": {},
     "output_type": "execute_result"
    }
   ],
   "source": [
    "# seeing maximum values\n",
    "\n",
    "import pandas as pd\n",
    "\n",
    "a = pd.read_csv('week01csvfile9.csv')\n",
    "\n",
    "idx = a['Sales'].idxmax() # it will give the index of maximum value\n",
    "idx"
   ]
  },
  {
   "cell_type": "code",
   "execution_count": 6,
   "id": "39467bec",
   "metadata": {},
   "outputs": [
    {
     "data": {
      "text/plain": [
       "Week             week9\n",
       "Sales              240\n",
       "Profit (PKR)    115000\n",
       "Name: 3, dtype: object"
      ]
     },
     "execution_count": 6,
     "metadata": {},
     "output_type": "execute_result"
    }
   ],
   "source": [
    "a.iloc[idx]"
   ]
  },
  {
   "cell_type": "code",
   "execution_count": 10,
   "id": "90b8cd54",
   "metadata": {},
   "outputs": [
    {
     "data": {
      "text/plain": [
       "3"
      ]
     },
     "execution_count": 10,
     "metadata": {},
     "output_type": "execute_result"
    }
   ],
   "source": [
    "idx2 = a['Profit (PKR)'].idxmax()\n",
    "idx2"
   ]
  },
  {
   "cell_type": "code",
   "execution_count": 11,
   "id": "ed594e28",
   "metadata": {},
   "outputs": [
    {
     "data": {
      "text/plain": [
       "Week             week9\n",
       "Sales              240\n",
       "Profit (PKR)    115000\n",
       "Name: 3, dtype: object"
      ]
     },
     "execution_count": 11,
     "metadata": {},
     "output_type": "execute_result"
    }
   ],
   "source": [
    "a.iloc[idx2]"
   ]
  },
  {
   "cell_type": "code",
   "execution_count": 8,
   "id": "7487645a",
   "metadata": {},
   "outputs": [
    {
     "data": {
      "text/plain": [
       "0"
      ]
     },
     "execution_count": 8,
     "metadata": {},
     "output_type": "execute_result"
    }
   ],
   "source": [
    "idx2 = a['Profit (PKR)'].idxmin()\n",
    "idx2"
   ]
  },
  {
   "cell_type": "code",
   "execution_count": 9,
   "id": "8de40fbb",
   "metadata": {},
   "outputs": [
    {
     "data": {
      "text/plain": [
       "Week            week6\n",
       "Sales             216\n",
       "Profit (PKR)    85000\n",
       "Name: 0, dtype: object"
      ]
     },
     "execution_count": 9,
     "metadata": {},
     "output_type": "execute_result"
    }
   ],
   "source": [
    "a.iloc[idx2]"
   ]
  },
  {
   "cell_type": "code",
   "execution_count": null,
   "id": "dc1c1822",
   "metadata": {},
   "outputs": [],
   "source": []
  },
  {
   "cell_type": "code",
   "execution_count": null,
   "id": "c2b2d017",
   "metadata": {},
   "outputs": [],
   "source": []
  }
 ],
 "metadata": {
  "kernelspec": {
   "display_name": "Python 3 (ipykernel)",
   "language": "python",
   "name": "python3"
  },
  "language_info": {
   "codemirror_mode": {
    "name": "ipython",
    "version": 3
   },
   "file_extension": ".py",
   "mimetype": "text/x-python",
   "name": "python",
   "nbconvert_exporter": "python",
   "pygments_lexer": "ipython3",
   "version": "3.11.5"
  }
 },
 "nbformat": 4,
 "nbformat_minor": 5
}
